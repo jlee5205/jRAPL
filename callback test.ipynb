{
 "cells": [
  {
   "cell_type": "code",
   "execution_count": 1,
   "id": "942ac351-ba0f-41de-b780-4f53096fe075",
   "metadata": {},
   "outputs": [
    {
     "name": "stderr",
     "output_type": "stream",
     "text": [
      "2024-05-22 19:03:15.085596: I tensorflow/core/util/port.cc:113] oneDNN custom operations are on. You may see slightly different numerical results due to floating-point round-off errors from different computation orders. To turn them off, set the environment variable `TF_ENABLE_ONEDNN_OPTS=0`.\n",
      "2024-05-22 19:03:15.136750: E external/local_xla/xla/stream_executor/cuda/cuda_dnn.cc:9261] Unable to register cuDNN factory: Attempting to register factory for plugin cuDNN when one has already been registered\n",
      "2024-05-22 19:03:15.136786: E external/local_xla/xla/stream_executor/cuda/cuda_fft.cc:607] Unable to register cuFFT factory: Attempting to register factory for plugin cuFFT when one has already been registered\n",
      "2024-05-22 19:03:15.138130: E external/local_xla/xla/stream_executor/cuda/cuda_blas.cc:1515] Unable to register cuBLAS factory: Attempting to register factory for plugin cuBLAS when one has already been registered\n",
      "2024-05-22 19:03:15.146102: I tensorflow/core/platform/cpu_feature_guard.cc:182] This TensorFlow binary is optimized to use available CPU instructions in performance-critical operations.\n",
      "To enable the following instructions: AVX2 AVX512F AVX512_VNNI FMA, in other operations, rebuild TensorFlow with the appropriate compiler flags.\n",
      "2024-05-22 19:03:16.210568: W tensorflow/compiler/tf2tensorrt/utils/py_utils.cc:38] TF-TRT Warning: Could not find TensorRT\n"
     ]
    }
   ],
   "source": [
    "from collections import OrderedDict\n",
    "from os import getpid\n",
    "from pprint import pprint\n",
    "from shutil import rmtree\n",
    "from time import sleep\n",
    "\n",
    "from jcarbon.client import JCarbonClient\n",
    "from jcarbon.tensorflow.callbacks import JCarbonEpochCallback"
   ]
  },
  {
   "cell_type": "code",
   "execution_count": 2,
   "id": "86180a76-48c7-4585-9260-6bf9a74ab323",
   "metadata": {},
   "outputs": [],
   "source": [
    "import tensorflow as tf\n",
    "from tensorflow import keras"
   ]
  },
  {
   "cell_type": "code",
   "execution_count": 3,
   "id": "bf289c9f-6cc4-472b-b091-5c995c8a52c7",
   "metadata": {},
   "outputs": [],
   "source": [
    "(img_train, label_train), (img_test, label_test) = keras.datasets.fashion_mnist.load_data()\n",
    "\n",
    "# Normalize pixel values between 0 and 1\n",
    "img_train = img_train.astype('float32') / 255.0\n",
    "img_test = img_test.astype('float32') / 255.0"
   ]
  },
  {
   "cell_type": "code",
   "execution_count": 4,
   "id": "68e93e64-20fe-40db-9a1d-8c61b72c8b4a",
   "metadata": {},
   "outputs": [],
   "source": [
    "jcarbon_callback = JCarbonEpochCallback()"
   ]
  },
  {
   "cell_type": "code",
   "execution_count": 5,
   "id": "cdb36f67-da9f-4493-890e-6d89cccb0596",
   "metadata": {},
   "outputs": [
    {
     "name": "stderr",
     "output_type": "stream",
     "text": [
      "2024-05-22 19:03:17.706163: I tensorflow/core/common_runtime/gpu/gpu_device.cc:1929] Created device /job:localhost/replica:0/task:0/device:GPU:0 with 158 MB memory:  -> device: 0, name: Quadro P5000, pci bus id: 0000:18:00.0, compute capability: 6.1\n"
     ]
    }
   ],
   "source": [
    "model = keras.Sequential()\n",
    "model.add(keras.layers.Flatten(input_shape=(28, 28)))\n",
    "model.add(keras.layers.Dense(units=32, activation='relu'))\n",
    "model.add(keras.layers.Dense(10))\n",
    "model.compile(optimizer=keras.optimizers.Adam(learning_rate=1e-2),\n",
    "            loss=keras.losses.SparseCategoricalCrossentropy(from_logits=True),\n",
    "            metrics=['accuracy'])"
   ]
  },
  {
   "cell_type": "code",
   "execution_count": 6,
   "id": "c1a6b15d-caae-4192-b2f2-59b315052ca5",
   "metadata": {},
   "outputs": [
    {
     "name": "stderr",
     "output_type": "stream",
     "text": [
      "2024-05-22 19:03:28.029559: W external/local_tsl/tsl/framework/bfc_allocator.cc:485] Allocator (GPU_0_bfc) ran out of memory trying to allocate 179.44MiB (rounded to 188160000)requested by op _EagerConst\n",
      "If the cause is memory fragmentation maybe the environment variable 'TF_GPU_ALLOCATOR=cuda_malloc_async' will improve the situation. \n",
      "Current allocation summary follows.\n",
      "Current allocation summary follows.\n",
      "2024-05-22 19:03:28.029611: I external/local_tsl/tsl/framework/bfc_allocator.cc:1039] BFCAllocator dump for GPU_0_bfc\n",
      "2024-05-22 19:03:28.029632: I external/local_tsl/tsl/framework/bfc_allocator.cc:1046] Bin (256): \tTotal Chunks: 12, Chunks in use: 12. 3.0KiB allocated for chunks. 3.0KiB in use in bin. 216B client-requested in use in bin.\n",
      "2024-05-22 19:03:28.029647: I external/local_tsl/tsl/framework/bfc_allocator.cc:1046] Bin (512): \tTotal Chunks: 0, Chunks in use: 0. 0B allocated for chunks. 0B in use in bin. 0B client-requested in use in bin.\n",
      "2024-05-22 19:03:28.029663: I external/local_tsl/tsl/framework/bfc_allocator.cc:1046] Bin (1024): \tTotal Chunks: 2, Chunks in use: 2. 2.5KiB allocated for chunks. 2.5KiB in use in bin. 2.3KiB client-requested in use in bin.\n",
      "2024-05-22 19:03:28.029677: I external/local_tsl/tsl/framework/bfc_allocator.cc:1046] Bin (2048): \tTotal Chunks: 1, Chunks in use: 0. 2.0KiB allocated for chunks. 0B in use in bin. 0B client-requested in use in bin.\n",
      "2024-05-22 19:03:28.029690: I external/local_tsl/tsl/framework/bfc_allocator.cc:1046] Bin (4096): \tTotal Chunks: 0, Chunks in use: 0. 0B allocated for chunks. 0B in use in bin. 0B client-requested in use in bin.\n",
      "2024-05-22 19:03:28.029702: I external/local_tsl/tsl/framework/bfc_allocator.cc:1046] Bin (8192): \tTotal Chunks: 0, Chunks in use: 0. 0B allocated for chunks. 0B in use in bin. 0B client-requested in use in bin.\n",
      "2024-05-22 19:03:28.029714: I external/local_tsl/tsl/framework/bfc_allocator.cc:1046] Bin (16384): \tTotal Chunks: 0, Chunks in use: 0. 0B allocated for chunks. 0B in use in bin. 0B client-requested in use in bin.\n",
      "2024-05-22 19:03:28.029726: I external/local_tsl/tsl/framework/bfc_allocator.cc:1046] Bin (32768): \tTotal Chunks: 0, Chunks in use: 0. 0B allocated for chunks. 0B in use in bin. 0B client-requested in use in bin.\n",
      "2024-05-22 19:03:28.029743: I external/local_tsl/tsl/framework/bfc_allocator.cc:1046] Bin (65536): \tTotal Chunks: 1, Chunks in use: 1. 98.0KiB allocated for chunks. 98.0KiB in use in bin. 98.0KiB client-requested in use in bin.\n",
      "2024-05-22 19:03:28.029757: I external/local_tsl/tsl/framework/bfc_allocator.cc:1046] Bin (131072): \tTotal Chunks: 1, Chunks in use: 0. 191.2KiB allocated for chunks. 0B in use in bin. 0B client-requested in use in bin.\n",
      "2024-05-22 19:03:28.029770: I external/local_tsl/tsl/framework/bfc_allocator.cc:1046] Bin (262144): \tTotal Chunks: 0, Chunks in use: 0. 0B allocated for chunks. 0B in use in bin. 0B client-requested in use in bin.\n",
      "2024-05-22 19:03:28.029782: I external/local_tsl/tsl/framework/bfc_allocator.cc:1046] Bin (524288): \tTotal Chunks: 0, Chunks in use: 0. 0B allocated for chunks. 0B in use in bin. 0B client-requested in use in bin.\n",
      "2024-05-22 19:03:28.029795: I external/local_tsl/tsl/framework/bfc_allocator.cc:1046] Bin (1048576): \tTotal Chunks: 0, Chunks in use: 0. 0B allocated for chunks. 0B in use in bin. 0B client-requested in use in bin.\n",
      "2024-05-22 19:03:28.029807: I external/local_tsl/tsl/framework/bfc_allocator.cc:1046] Bin (2097152): \tTotal Chunks: 0, Chunks in use: 0. 0B allocated for chunks. 0B in use in bin. 0B client-requested in use in bin.\n",
      "2024-05-22 19:03:28.029819: I external/local_tsl/tsl/framework/bfc_allocator.cc:1046] Bin (4194304): \tTotal Chunks: 0, Chunks in use: 0. 0B allocated for chunks. 0B in use in bin. 0B client-requested in use in bin.\n",
      "2024-05-22 19:03:28.029831: I external/local_tsl/tsl/framework/bfc_allocator.cc:1046] Bin (8388608): \tTotal Chunks: 0, Chunks in use: 0. 0B allocated for chunks. 0B in use in bin. 0B client-requested in use in bin.\n",
      "2024-05-22 19:03:28.029844: I external/local_tsl/tsl/framework/bfc_allocator.cc:1046] Bin (16777216): \tTotal Chunks: 0, Chunks in use: 0. 0B allocated for chunks. 0B in use in bin. 0B client-requested in use in bin.\n",
      "2024-05-22 19:03:28.029862: I external/local_tsl/tsl/framework/bfc_allocator.cc:1046] Bin (33554432): \tTotal Chunks: 0, Chunks in use: 0. 0B allocated for chunks. 0B in use in bin. 0B client-requested in use in bin.\n",
      "2024-05-22 19:03:28.029875: I external/local_tsl/tsl/framework/bfc_allocator.cc:1046] Bin (67108864): \tTotal Chunks: 0, Chunks in use: 0. 0B allocated for chunks. 0B in use in bin. 0B client-requested in use in bin.\n",
      "2024-05-22 19:03:28.029889: I external/local_tsl/tsl/framework/bfc_allocator.cc:1046] Bin (134217728): \tTotal Chunks: 1, Chunks in use: 0. 158.40MiB allocated for chunks. 0B in use in bin. 0B client-requested in use in bin.\n",
      "2024-05-22 19:03:28.029901: I external/local_tsl/tsl/framework/bfc_allocator.cc:1046] Bin (268435456): \tTotal Chunks: 0, Chunks in use: 0. 0B allocated for chunks. 0B in use in bin. 0B client-requested in use in bin.\n",
      "2024-05-22 19:03:28.029917: I external/local_tsl/tsl/framework/bfc_allocator.cc:1062] Bin for 179.44MiB was 128.00MiB, Chunk State: \n",
      "2024-05-22 19:03:28.029938: I external/local_tsl/tsl/framework/bfc_allocator.cc:1068]   Size: 158.40MiB | Requested Size: 0B | in_use: 0 | bin_num: 19, prev:   Size: 98.0KiB | Requested Size: 98.0KiB | in_use: 1 | bin_num: -1\n",
      "2024-05-22 19:03:28.029948: I external/local_tsl/tsl/framework/bfc_allocator.cc:1075] Next region of size 166395904\n",
      "2024-05-22 19:03:28.029961: I external/local_tsl/tsl/framework/bfc_allocator.cc:1095] InUse at 7fe4ce000000 of size 256 next 1\n",
      "2024-05-22 19:03:28.029972: I external/local_tsl/tsl/framework/bfc_allocator.cc:1095] InUse at 7fe4ce000100 of size 1280 next 2\n",
      "2024-05-22 19:03:28.029983: I external/local_tsl/tsl/framework/bfc_allocator.cc:1095] InUse at 7fe4ce000600 of size 256 next 3\n",
      "2024-05-22 19:03:28.029992: I external/local_tsl/tsl/framework/bfc_allocator.cc:1095] InUse at 7fe4ce000700 of size 256 next 4\n",
      "2024-05-22 19:03:28.030002: I external/local_tsl/tsl/framework/bfc_allocator.cc:1095] InUse at 7fe4ce000800 of size 256 next 6\n",
      "2024-05-22 19:03:28.030011: I external/local_tsl/tsl/framework/bfc_allocator.cc:1095] InUse at 7fe4ce000900 of size 256 next 7\n",
      "2024-05-22 19:03:28.030014: I external/local_tsl/tsl/framework/bfc_allocator.cc:1095] InUse at 7fe4ce000a00 of size 256 next 5\n",
      "2024-05-22 19:03:28.030016: I external/local_tsl/tsl/framework/bfc_allocator.cc:1095] InUse at 7fe4ce000b00 of size 256 next 8\n",
      "2024-05-22 19:03:28.030018: I external/local_tsl/tsl/framework/bfc_allocator.cc:1095] InUse at 7fe4ce000c00 of size 256 next 12\n",
      "2024-05-22 19:03:28.030020: I external/local_tsl/tsl/framework/bfc_allocator.cc:1095] InUse at 7fe4ce000d00 of size 256 next 13\n",
      "2024-05-22 19:03:28.030023: I external/local_tsl/tsl/framework/bfc_allocator.cc:1095] InUse at 7fe4ce000e00 of size 256 next 11\n",
      "2024-05-22 19:03:28.030025: I external/local_tsl/tsl/framework/bfc_allocator.cc:1095] InUse at 7fe4ce000f00 of size 256 next 14\n",
      "2024-05-22 19:03:28.030027: I external/local_tsl/tsl/framework/bfc_allocator.cc:1095] InUse at 7fe4ce001000 of size 256 next 17\n",
      "2024-05-22 19:03:28.030030: I external/local_tsl/tsl/framework/bfc_allocator.cc:1095] Free  at 7fe4ce001100 of size 2048 next 15\n",
      "2024-05-22 19:03:28.030032: I external/local_tsl/tsl/framework/bfc_allocator.cc:1095] InUse at 7fe4ce001900 of size 1280 next 16\n",
      "2024-05-22 19:03:28.030034: I external/local_tsl/tsl/framework/bfc_allocator.cc:1095] Free  at 7fe4ce001e00 of size 195840 next 9\n",
      "2024-05-22 19:03:28.030037: I external/local_tsl/tsl/framework/bfc_allocator.cc:1095] InUse at 7fe4ce031b00 of size 100352 next 10\n",
      "2024-05-22 19:03:28.030039: I external/local_tsl/tsl/framework/bfc_allocator.cc:1095] Free  at 7fe4ce04a300 of size 166092032 next 18446744073709551615\n",
      "2024-05-22 19:03:28.030042: I external/local_tsl/tsl/framework/bfc_allocator.cc:1100]      Summary of in-use Chunks by size: \n",
      "2024-05-22 19:03:28.030045: I external/local_tsl/tsl/framework/bfc_allocator.cc:1103] 12 Chunks of size 256 totalling 3.0KiB\n",
      "2024-05-22 19:03:28.030049: I external/local_tsl/tsl/framework/bfc_allocator.cc:1103] 2 Chunks of size 1280 totalling 2.5KiB\n",
      "2024-05-22 19:03:28.030052: I external/local_tsl/tsl/framework/bfc_allocator.cc:1103] 1 Chunks of size 100352 totalling 98.0KiB\n",
      "2024-05-22 19:03:28.030055: I external/local_tsl/tsl/framework/bfc_allocator.cc:1107] Sum Total of in-use chunks: 103.5KiB\n",
      "2024-05-22 19:03:28.030058: I external/local_tsl/tsl/framework/bfc_allocator.cc:1109] Total bytes in pool: 166395904 memory_limit_: 166395904 available bytes: 0 curr_region_allocation_bytes_: 332791808\n",
      "2024-05-22 19:03:28.030063: I external/local_tsl/tsl/framework/bfc_allocator.cc:1114] Stats: \n",
      "Limit:                       166395904\n",
      "InUse:                          105984\n",
      "MaxInUse:                       303616\n",
      "NumAllocs:                          25\n",
      "MaxAllocSize:                   100352\n",
      "Reserved:                            0\n",
      "PeakReserved:                        0\n",
      "LargestFreeBlock:                    0\n",
      "\n",
      "2024-05-22 19:03:28.030067: W external/local_tsl/tsl/framework/bfc_allocator.cc:497] *___________________________________________________________________________________________________\n"
     ]
    },
    {
     "ename": "InternalError",
     "evalue": "Failed copying input tensor from /job:localhost/replica:0/task:0/device:CPU:0 to /job:localhost/replica:0/task:0/device:GPU:0 in order to run _EagerConst: Dst tensor is not initialized.",
     "output_type": "error",
     "traceback": [
      "\u001b[0;31m---------------------------------------------------------------------------\u001b[0m",
      "\u001b[0;31mInternalError\u001b[0m                             Traceback (most recent call last)",
      "Cell \u001b[0;32mIn[6], line 1\u001b[0m\n\u001b[0;32m----> 1\u001b[0m result \u001b[38;5;241m=\u001b[39m \u001b[43mmodel\u001b[49m\u001b[38;5;241;43m.\u001b[39;49m\u001b[43mfit\u001b[49m\u001b[43m(\u001b[49m\n\u001b[1;32m      2\u001b[0m \u001b[43m    \u001b[49m\u001b[43mimg_train\u001b[49m\u001b[43m,\u001b[49m\n\u001b[1;32m      3\u001b[0m \u001b[43m    \u001b[49m\u001b[43mlabel_train\u001b[49m\u001b[43m,\u001b[49m\n\u001b[1;32m      4\u001b[0m \u001b[43m    \u001b[49m\u001b[43mepochs\u001b[49m\u001b[38;5;241;43m=\u001b[39;49m\u001b[38;5;241;43m50\u001b[39;49m\u001b[43m,\u001b[49m\n\u001b[1;32m      5\u001b[0m \u001b[43m    \u001b[49m\u001b[43mcallbacks\u001b[49m\u001b[38;5;241;43m=\u001b[39;49m\u001b[43m[\u001b[49m\u001b[43mjcarbon_callback\u001b[49m\u001b[43m]\u001b[49m\u001b[43m,\u001b[49m\n\u001b[1;32m      6\u001b[0m \u001b[43m)\u001b[49m\n",
      "File \u001b[0;32m~/.local/lib/python3.9/site-packages/keras/src/utils/traceback_utils.py:70\u001b[0m, in \u001b[0;36mfilter_traceback.<locals>.error_handler\u001b[0;34m(*args, **kwargs)\u001b[0m\n\u001b[1;32m     67\u001b[0m     filtered_tb \u001b[38;5;241m=\u001b[39m _process_traceback_frames(e\u001b[38;5;241m.\u001b[39m__traceback__)\n\u001b[1;32m     68\u001b[0m     \u001b[38;5;66;03m# To get the full stack trace, call:\u001b[39;00m\n\u001b[1;32m     69\u001b[0m     \u001b[38;5;66;03m# `tf.debugging.disable_traceback_filtering()`\u001b[39;00m\n\u001b[0;32m---> 70\u001b[0m     \u001b[38;5;28;01mraise\u001b[39;00m e\u001b[38;5;241m.\u001b[39mwith_traceback(filtered_tb) \u001b[38;5;28;01mfrom\u001b[39;00m \u001b[38;5;28;01mNone\u001b[39;00m\n\u001b[1;32m     71\u001b[0m \u001b[38;5;28;01mfinally\u001b[39;00m:\n\u001b[1;32m     72\u001b[0m     \u001b[38;5;28;01mdel\u001b[39;00m filtered_tb\n",
      "File \u001b[0;32m~/.local/lib/python3.9/site-packages/tensorflow/python/framework/constant_op.py:103\u001b[0m, in \u001b[0;36mconvert_to_eager_tensor\u001b[0;34m(value, ctx, dtype)\u001b[0m\n\u001b[1;32m    101\u001b[0m     dtype \u001b[38;5;241m=\u001b[39m dtypes\u001b[38;5;241m.\u001b[39mas_dtype(dtype)\u001b[38;5;241m.\u001b[39mas_datatype_enum\n\u001b[1;32m    102\u001b[0m ctx\u001b[38;5;241m.\u001b[39mensure_initialized()\n\u001b[0;32m--> 103\u001b[0m \u001b[38;5;28;01mreturn\u001b[39;00m \u001b[43mops\u001b[49m\u001b[38;5;241;43m.\u001b[39;49m\u001b[43mEagerTensor\u001b[49m\u001b[43m(\u001b[49m\u001b[43mvalue\u001b[49m\u001b[43m,\u001b[49m\u001b[43m \u001b[49m\u001b[43mctx\u001b[49m\u001b[38;5;241;43m.\u001b[39;49m\u001b[43mdevice_name\u001b[49m\u001b[43m,\u001b[49m\u001b[43m \u001b[49m\u001b[43mdtype\u001b[49m\u001b[43m)\u001b[49m\n",
      "\u001b[0;31mInternalError\u001b[0m: Failed copying input tensor from /job:localhost/replica:0/task:0/device:CPU:0 to /job:localhost/replica:0/task:0/device:GPU:0 in order to run _EagerConst: Dst tensor is not initialized."
     ]
    }
   ],
   "source": [
    "result = model.fit(\n",
    "    img_train,\n",
    "    label_train,\n",
    "    epochs=50,\n",
    "    callbacks=[jcarbon_callback],\n",
    ")"
   ]
  },
  {
   "cell_type": "code",
   "execution_count": null,
   "id": "4e96ae56-c9e7-4199-b458-4ce4d3cfc459",
   "metadata": {},
   "outputs": [],
   "source": [
    "signal = 'jcarbon.cpu.eflect.ProcessEnergy'\n",
    "ax=None\n",
    "for report in jcarbon_callback.reports:\n",
    "    df = report.reset_index()\n",
    "    df = df[df.signal == signal]\n",
    "    df['elapsed'] = (df.start - df.start.min()).dt.total_seconds()\n",
    "    df['rolled_value'] = df['value'].rolling(100).mean()\n",
    "    ax = df.plot(x='elapsed', y='rolled_value', legend=False, figsize=(16, 9), ax=ax)"
   ]
  }
 ],
 "metadata": {
  "kernelspec": {
   "display_name": "Python 3 (ipykernel)",
   "language": "python",
   "name": "python3"
  },
  "language_info": {
   "codemirror_mode": {
    "name": "ipython",
    "version": 3
   },
   "file_extension": ".py",
   "mimetype": "text/x-python",
   "name": "python",
   "nbconvert_exporter": "python",
   "pygments_lexer": "ipython3",
   "version": "3.9.2"
  }
 },
 "nbformat": 4,
 "nbformat_minor": 5
}
